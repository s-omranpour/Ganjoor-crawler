{
 "cells": [
  {
   "cell_type": "code",
   "execution_count": 89,
   "metadata": {},
   "outputs": [],
   "source": [
    "import json, os\n",
    "from IPython.display import Audio\n",
    "from tqdm.notebook import tqdm\n",
    "\n",
    "path = 'data/'"
   ]
  },
  {
   "cell_type": "code",
   "execution_count": 94,
   "metadata": {},
   "outputs": [],
   "source": [
    "files = os.listdir(path)\n",
    "n = 0"
   ]
  },
  {
   "cell_type": "code",
   "execution_count": 88,
   "metadata": {},
   "outputs": [
    {
     "name": "stdout",
     "output_type": "stream",
     "text": [
      "چو باد عزم سر کوی یار خواهم کرد\n",
      "نفس به بوی خوشش مشکبار خواهم کرد\n",
      "به هرزه بی می و معشوق عمر می‌گذرد\n",
      "بطالتم بس از امروز کار خواهم کرد\n",
      "هر آبروی که اندوختم ز دانش و دین\n",
      "نثار خاک ره آن نگار خواهم کرد\n",
      "چو شمع صبحدمم شد ز مهر او روشن\n",
      "که عمر در سر این کار و بار خواهم کرد\n",
      "به یاد چشم تو خود را خراب خواهم ساخت\n",
      "بنای عهد قدیم استوار خواهم کرد\n",
      "صبا کجاست که این جان خون گرفته چو گل\n",
      "فدای نکهت گیسوی یار خواهم کرد\n",
      "نفاق و زرق نبخشد صفای دل حافظ\n",
      "طریق رندی و عشق اختیار خواهم کرد\n",
      " \n",
      "\n",
      "https://i.ganjoor.net/a/2264-ff.mp3\n",
      "https://i.ganjoor.net/a/2264.mp3\n",
      "https://i.ganjoor.net/a2/2264-ml.mp3\n",
      "https://i.ganjoor.net/a2/2264-fz.mp3\n"
     ]
    },
    {
     "data": {
      "text/html": [
       "\n",
       "                <audio  controls=\"controls\" >\n",
       "                    <source src=\"https://i.ganjoor.net/a/2264-ff.mp3\" type=\"audio/mpeg\" />\n",
       "                    Your browser does not support the audio element.\n",
       "                </audio>\n",
       "              "
      ],
      "text/plain": [
       "<IPython.lib.display.Audio object>"
      ]
     },
     "execution_count": 88,
     "metadata": {},
     "output_type": "execute_result"
    }
   ],
   "source": [
    "s = json.load(open(path + files[0]))\n",
    "print(s['poem'],'\\n')\n",
    "print('\\n'.join(s['audios']))\n",
    "Audio(s['audios'][0])"
   ]
  },
  {
   "cell_type": "code",
   "execution_count": 92,
   "metadata": {},
   "outputs": [
    {
     "data": {
      "text/plain": [
       "['چو باد عزم سر کوی یار خواهم کرد',\n",
       " 'نفس به بوی خوشش مشکبار خواهم کرد',\n",
       " 'به هرزه بی می و معشوق عمر می\\u200cگذرد',\n",
       " 'بطالتم بس از امروز کار خواهم کرد',\n",
       " 'هر آبروی که اندوختم ز دانش و دین',\n",
       " 'نثار خاک ره آن نگار خواهم کرد',\n",
       " 'چو شمع صبحدمم شد ز مهر او روشن',\n",
       " 'که عمر در سر این کار و بار خواهم کرد',\n",
       " 'به یاد چشم تو خود را خراب خواهم ساخت',\n",
       " 'بنای عهد قدیم استوار خواهم کرد',\n",
       " 'صبا کجاست که این جان خون گرفته چو گل',\n",
       " 'فدای نکهت گیسوی یار خواهم کرد',\n",
       " 'نفاق و زرق نبخشد صفای دل حافظ',\n",
       " 'طریق رندی و عشق اختیار خواهم کرد']"
      ]
     },
     "execution_count": 92,
     "metadata": {},
     "output_type": "execute_result"
    }
   ],
   "source": [
    "s['poem']"
   ]
  },
  {
   "cell_type": "code",
   "execution_count": 95,
   "metadata": {},
   "outputs": [
    {
     "data": {
      "application/vnd.jupyter.widget-view+json": {
       "model_id": "da0ea82033dd4c789b7080a73ac838ef",
       "version_major": 2,
       "version_minor": 0
      },
      "text/plain": [
       "HBox(children=(FloatProgress(value=0.0, max=568.0), HTML(value='')))"
      ]
     },
     "metadata": {},
     "output_type": "display_data"
    },
    {
     "name": "stdout",
     "output_type": "stream",
     "text": [
      "\n"
     ]
    },
    {
     "data": {
      "text/plain": [
       "7952"
      ]
     },
     "execution_count": 95,
     "metadata": {},
     "output_type": "execute_result"
    }
   ],
   "source": [
    "for file in tqdm(files):\n",
    "    n += len(json.load(open(path + files[0]))['poem'].strip().split('\\n'))\n",
    "n"
   ]
  },
  {
   "cell_type": "code",
   "execution_count": null,
   "metadata": {},
   "outputs": [],
   "source": []
  }
 ],
 "metadata": {
  "kernelspec": {
   "display_name": "Python 3",
   "language": "python",
   "name": "python3"
  },
  "language_info": {
   "codemirror_mode": {
    "name": "ipython",
    "version": 3
   },
   "file_extension": ".py",
   "mimetype": "text/x-python",
   "name": "python",
   "nbconvert_exporter": "python",
   "pygments_lexer": "ipython3",
   "version": "3.7.4"
  }
 },
 "nbformat": 4,
 "nbformat_minor": 2
}
